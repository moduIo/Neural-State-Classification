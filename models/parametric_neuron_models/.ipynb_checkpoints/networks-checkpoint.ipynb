{
 "cells": [
  {
   "cell_type": "code",
   "execution_count": 1,
   "metadata": {},
   "outputs": [
    {
     "name": "stderr",
     "output_type": "stream",
     "text": [
      "/Users/tim/anaconda2/lib/python2.7/site-packages/h5py/__init__.py:34: FutureWarning: Conversion of the second argument of issubdtype from `float` to `np.floating` is deprecated. In future, it will be treated as `np.float64 == np.dtype(float).type`.\n",
      "  from ._conv import register_converters as _register_converters\n",
      "Using TensorFlow backend.\n"
     ]
    }
   ],
   "source": [
    "import pandas as pd\n",
    "import numpy as np\n",
    "from scipy.stats import zscore\n",
    "from sklearn.model_selection import train_test_split\n",
    "import keras\n",
    "from keras import regularizers\n",
    "from keras import initializers\n",
    "from keras.models import Sequential, Model\n",
    "from keras.layers import Dense, Dropout, Activation, MaxPooling1D, Flatten, Embedding, Input\n",
    "from keras.layers.convolutional import Conv1D\n",
    "from keras.layers.normalization import BatchNormalization\n",
    "from keras.callbacks import TensorBoard, EarlyStopping\n",
    "from tensorboard.plugins.pr_curve import summary as pr_summary\n",
    "import matplotlib.pyplot as plt\n",
    "\n",
    "%matplotlib inline"
   ]
  },
  {
   "cell_type": "markdown",
   "metadata": {},
   "source": [
    "# Data Preprocessing"
   ]
  },
  {
   "cell_type": "code",
   "execution_count": 5,
   "metadata": {
    "collapsed": true
   },
   "outputs": [],
   "source": [
    "DATASET = 3  # Select dataset\n",
    "\n",
    "Xs_data = ['neuron_params_d_I_samples_220K.csv', \n",
    "           'neuron_params_I_d_a_b_c_samples_110K.csv', \n",
    "           'neuron_params_I_d_a_b_samples_110K.csv', \n",
    "           'neuron_params_I_d_a_samples_110K.csv', \n",
    "           'neuron_params_I_samples_110K.csv']\n",
    "\n",
    "ys_data = ['neuron_params_d_I_labels_220K.csv', \n",
    "           'neuron_params_I_d_a_b_c_labels_110K.csv', \n",
    "           'neuron_params_I_d_a_b_labels_110K.csv', \n",
    "           'neuron_params_I_d_a_labels_110K.csv', \n",
    "           'neuron_params_I_labels_110K.csv']"
   ]
  },
  {
   "cell_type": "code",
   "execution_count": 6,
   "metadata": {
    "collapsed": true
   },
   "outputs": [],
   "source": [
    "X = pd.read_csv('../../datasets/parametric_neuron_data/' + Xs_data[DATASET], index_col=0, header=None).T\n",
    "y = pd.read_csv('../../datasets/parametric_neuron_data/' + ys_data[DATASET], index_col=0, header=None).T"
   ]
  },
  {
   "cell_type": "code",
   "execution_count": 7,
   "metadata": {
    "collapsed": true
   },
   "outputs": [],
   "source": [
    "# Add \"header\" as data\n",
    "X.loc[-1] = X.columns\n",
    "y.loc[-1] = y.columns\n",
    "\n",
    "(num_samples, num_features) = X.shape\n",
    "\n",
    "# Normalize input\n",
    "X = X.apply(zscore)\n",
    "\n",
    "# 80/20 train test split\n",
    "X_train, X_test, y_train, y_test = train_test_split(X, y, test_size=0.20, random_state=42, shuffle=True)\n",
    "\n",
    "# Add an extra dimension to  XX  for 1-D convolution.\n",
    "X_train_cnn = np.expand_dims(X_train.as_matrix(), axis=2)\n",
    "X_test_cnn = np.expand_dims(X_test.as_matrix(), axis=2)"
   ]
  },
  {
   "cell_type": "code",
   "execution_count": 8,
   "metadata": {},
   "outputs": [
    {
     "data": {
      "text/plain": [
       "array([[<matplotlib.axes._subplots.AxesSubplot object at 0x11d658ed0>,\n",
       "        <matplotlib.axes._subplots.AxesSubplot object at 0x11fa444d0>,\n",
       "        <matplotlib.axes._subplots.AxesSubplot object at 0x1200de510>],\n",
       "       [<matplotlib.axes._subplots.AxesSubplot object at 0x11fa15d50>,\n",
       "        <matplotlib.axes._subplots.AxesSubplot object at 0x11ef32550>,\n",
       "        <matplotlib.axes._subplots.AxesSubplot object at 0x120d1b350>],\n",
       "       [<matplotlib.axes._subplots.AxesSubplot object at 0x120082bd0>,\n",
       "        <matplotlib.axes._subplots.AxesSubplot object at 0x11dcef990>,\n",
       "        <matplotlib.axes._subplots.AxesSubplot object at 0x11ff107d0>],\n",
       "       [<matplotlib.axes._subplots.AxesSubplot object at 0x11d7e9d50>,\n",
       "        <matplotlib.axes._subplots.AxesSubplot object at 0x11e96a710>,\n",
       "        <matplotlib.axes._subplots.AxesSubplot object at 0x11e98ea50>],\n",
       "       [<matplotlib.axes._subplots.AxesSubplot object at 0x120cd1890>,\n",
       "        <matplotlib.axes._subplots.AxesSubplot object at 0x11fd0be10>,\n",
       "        <matplotlib.axes._subplots.AxesSubplot object at 0x11ff606d0>],\n",
       "       [<matplotlib.axes._subplots.AxesSubplot object at 0x11ff81cd0>,\n",
       "        <matplotlib.axes._subplots.AxesSubplot object at 0x11fa266d0>,\n",
       "        <matplotlib.axes._subplots.AxesSubplot object at 0x11e114110>],\n",
       "       [<matplotlib.axes._subplots.AxesSubplot object at 0x11e134390>,\n",
       "        <matplotlib.axes._subplots.AxesSubplot object at 0x11e0a5450>,\n",
       "        <matplotlib.axes._subplots.AxesSubplot object at 0x11e120c10>],\n",
       "       [<matplotlib.axes._subplots.AxesSubplot object at 0x10a208e90>,\n",
       "        <matplotlib.axes._subplots.AxesSubplot object at 0x10a256dd0>,\n",
       "        <matplotlib.axes._subplots.AxesSubplot object at 0x10a2a3d90>],\n",
       "       [<matplotlib.axes._subplots.AxesSubplot object at 0x10df74750>,\n",
       "        <matplotlib.axes._subplots.AxesSubplot object at 0x10dfa5d50>,\n",
       "        <matplotlib.axes._subplots.AxesSubplot object at 0x11d6e8c90>],\n",
       "       [<matplotlib.axes._subplots.AxesSubplot object at 0x11d758150>,\n",
       "        <matplotlib.axes._subplots.AxesSubplot object at 0x11d79aad0>,\n",
       "        <matplotlib.axes._subplots.AxesSubplot object at 0x11d815e10>]],\n",
       "      dtype=object)"
      ]
     },
     "execution_count": 8,
     "metadata": {},
     "output_type": "execute_result"
    },
    {
     "data": {
      "image/png": "[encoded data removed]",
      "text/plain": [
       "<matplotlib.figure.Figure at 0x11d658910>"
      ]
     },
     "metadata": {},
     "output_type": "display_data"
    }
   ],
   "source": [
    "X.hist(grid=False, figsize=(15,40), layout=(10,3), bins=100, sharex=True)"
   ]
  },
  {
   "cell_type": "code",
   "execution_count": 9,
   "metadata": {},
   "outputs": [
    {
     "data": {
      "text/plain": [
       "array([[<matplotlib.axes._subplots.AxesSubplot object at 0x11f4daf90>]],\n",
       "      dtype=object)"
      ]
     },
     "execution_count": 9,
     "metadata": {},
     "output_type": "execute_result"
    },
    {
     "data": {
      "image/png": "[encoded data removed]",
      "text/plain": [
       "<matplotlib.figure.Figure at 0x11f5b4d50>"
      ]
     },
     "metadata": {},
     "output_type": "display_data"
    }
   ],
   "source": [
    "y.hist(grid=False)"
   ]
  },
  {
   "cell_type": "markdown",
   "metadata": {},
   "source": [
    "# TensorBoard Visualization"
   ]
  },
  {
   "cell_type": "markdown",
   "metadata": {},
   "source": [
    "Displays Precision-Recall curve for Keras models.\n",
    "\n",
    "Adapted from: https://medium.com/@akionakas/precision-recall-curve-with-keras-cd92647685e1"
   ]
  },
  {
   "cell_type": "code",
   "execution_count": 10,
   "metadata": {
    "collapsed": true
   },
   "outputs": [],
   "source": [
    "class PRTensorBoard(TensorBoard):\n",
    "    def __init__(self, *args, **kwargs):\n",
    "        # One extra argument to indicate whether or not to use the PR curve summary.\n",
    "        self.pr_curve = kwargs.pop('pr_curve', True)\n",
    "        super(PRTensorBoard, self).__init__(*args, **kwargs)\n",
    "\n",
    "        global tf\n",
    "        import tensorflow as tf\n",
    "\n",
    "    def set_model(self, model):\n",
    "        super(PRTensorBoard, self).set_model(model)\n",
    "\n",
    "        if self.pr_curve:\n",
    "            # Get the prediction and label tensor placeholders.\n",
    "            predictions = self.model._feed_outputs[0]\n",
    "            labels = tf.cast(self.model._feed_targets[0], tf.bool)\n",
    "            # Create the PR summary OP.\n",
    "            self.pr_summary = pr_summary.op(name='pr_curve',\n",
    "                                            predictions=predictions,\n",
    "                                            labels=labels,\n",
    "                                            display_name='Precision-Recall Curve')\n",
    "\n",
    "    def on_epoch_end(self, epoch, logs=None):\n",
    "        super(PRTensorBoard, self).on_epoch_end(epoch, logs)\n",
    "\n",
    "        if self.pr_curve and self.validation_data:\n",
    "            # Get the tensors again.\n",
    "            tensors = self.model._feed_targets + self.model._feed_outputs\n",
    "            # Predict the output.\n",
    "            predictions = self.model.predict(self.validation_data[0])\n",
    "            # Build the dictionary mapping the tensor to the data.\n",
    "            val_data = [self.validation_data[1], predictions]\n",
    "            feed_dict = dict(zip(tensors, val_data))\n",
    "            # Run and add summary.\n",
    "            result = self.sess.run([self.pr_summary], feed_dict=feed_dict)\n",
    "            self.writer.add_summary(result[0], epoch)\n",
    "        self.writer.flush()"
   ]
  },
  {
   "cell_type": "markdown",
   "metadata": {},
   "source": [
    "# CNN Model"
   ]
  },
  {
   "cell_type": "code",
   "execution_count": 11,
   "metadata": {
    "collapsed": true
   },
   "outputs": [],
   "source": [
    "epochs = 10\n",
    "batch_size = 32"
   ]
  },
  {
   "cell_type": "markdown",
   "metadata": {},
   "source": [
    "## Dataset 0: neuron_params_d_I"
   ]
  },
  {
   "cell_type": "code",
   "execution_count": null,
   "metadata": {
    "collapsed": true
   },
   "outputs": [],
   "source": [
    "# Conv 4x3\n",
    "inputs = Input(shape=(num_features, 1))\n",
    "conv1 = Conv1D(4, 3, padding='same', strides=1)(inputs)\n",
    "bn1 = BatchNormalization()(conv1)\n",
    "relu1 = Activation('relu')(bn1)\n",
    "\n",
    "# Conv 8x3\n",
    "conv2 = Conv1D(8, 3, padding='same', strides=1)(relu1)\n",
    "bn2 = BatchNormalization()(conv2)\n",
    "relu2 = Activation('relu')(bn2)\n",
    "flatten = Flatten()(relu2)\n",
    "\n",
    "# FC 32\n",
    "fc1 = Dense(32)(flatten)\n",
    "bn3 = BatchNormalization()(fc1)\n",
    "relu3 = Activation('relu')(bn3)\n",
    "\n",
    "# FC 16\n",
    "fc2 = Dense(16)(relu3)\n",
    "bn4 = BatchNormalization()(fc2)\n",
    "relu4 = Activation('relu')(bn4)\n",
    "\n",
    "# FC 16\n",
    "fc3 = Dense(16)(relu4)\n",
    "bn5 = BatchNormalization()(fc3)\n",
    "relu5 = Activation('relu')(bn5)\n",
    "\n",
    "# Output\n",
    "fc4 = Dense(1)(relu5)\n",
    "outputs = Activation('sigmoid')(fc4)\n",
    "\n",
    "model = Model(inputs=inputs, outputs=outputs)"
   ]
  },
  {
   "cell_type": "code",
   "execution_count": null,
   "metadata": {
    "collapsed": true
   },
   "outputs": [],
   "source": [
    "opt = keras.optimizers.Adam(lr=0.00001, beta_1=0.9, beta_2=0.999, epsilon=None, decay=0.0, amsgrad=False)\n",
    "\n",
    "model.compile(loss = 'binary_crossentropy',\n",
    "              optimizer = opt,\n",
    "              metrics = ['accuracy'])"
   ]
  },
  {
   "cell_type": "code",
   "execution_count": null,
   "metadata": {
    "collapsed": true
   },
   "outputs": [],
   "source": [
    "model.fit(X_train_cnn, y_train,\n",
    "          batch_size=batch_size,\n",
    "          epochs=epochs,\n",
    "          validation_data=[X_test_cnn, y_test], # NOTE: must pass test data for PRTensorBoard callback\n",
    "          shuffle=True,\n",
    "          callbacks=[PRTensorBoard(log_dir='logs/adam_dropout-50_dataset-' + str(DATASET)), EarlyStopping(monitor='val_acc', patience=2)])"
   ]
  },
  {
   "cell_type": "markdown",
   "metadata": {},
   "source": [
    "## Dataset 1: neuron_params_I_d_a_b_c"
   ]
  },
  {
   "cell_type": "code",
   "execution_count": null,
   "metadata": {
    "collapsed": true
   },
   "outputs": [],
   "source": [
    "# Conv 16x3\n",
    "inputs = Input(shape=(num_features, 1))\n",
    "conv1 = Conv1D(16, 3, padding='same', strides=1)(inputs)\n",
    "bn1 = BatchNormalization()(conv1)\n",
    "relu1 = Activation('relu')(bn1)\n",
    "\n",
    "# Conv 32x3 convolutions\n",
    "conv2 = Conv1D(32, 3, padding='same', strides=1)(relu1)\n",
    "bn2 = BatchNormalization()(conv2)\n",
    "relu2 = Activation('relu')(bn2)\n",
    "flatten = Flatten()(relu2)\n",
    "\n",
    "# FC 128\n",
    "fc1 = Dense(128)(flatten)\n",
    "bn3 = BatchNormalization()(fc1)\n",
    "relu3 = Activation('relu')(bn3)\n",
    "drop1 = Dropout(0.5)(relu3)\n",
    "\n",
    "# FC 64\n",
    "fc2 = Dense(64)(drop1)\n",
    "bn4 = BatchNormalization()(fc2)\n",
    "relu4 = Activation('relu')(bn4)\n",
    "drop2 = Dropout(0.5)(relu4)\n",
    "\n",
    "# FC 32\n",
    "fc3 = Dense(32)(drop2)\n",
    "bn5 = BatchNormalization()(fc3)\n",
    "relu5 = Activation('relu')(bn5)\n",
    "drop3 = Dropout(0.5)(relu5)\n",
    "\n",
    "# Output\n",
    "fc4 = Dense(1)(drop3)\n",
    "outputs = Activation('sigmoid')(fc4)\n",
    "\n",
    "model = Model(inputs=inputs, outputs=outputs)"
   ]
  },
  {
   "cell_type": "code",
   "execution_count": null,
   "metadata": {
    "collapsed": true
   },
   "outputs": [],
   "source": [
    "opt = keras.optimizers.RMSprop(lr=0.001)\n",
    "model.compile(loss = 'binary_crossentropy',\n",
    "              optimizer = opt,\n",
    "              metrics = ['accuracy'])"
   ]
  },
  {
   "cell_type": "code",
   "execution_count": null,
   "metadata": {},
   "outputs": [],
   "source": [
    "model.fit(X_train_cnn, y_train,\n",
    "          batch_size=batch_size,\n",
    "          epochs=epochs,\n",
    "          validation_data=[X_test_cnn, y_test], # NOTE: must pass test data for PRTensorBoard callback\n",
    "          shuffle=True,\n",
    "          callbacks=[PRTensorBoard(log_dir='logs/adagrad_dropout-50_dataset-' + str(DATASET)), EarlyStopping(monitor='val_acc', patience=2)])"
   ]
  },
  {
   "cell_type": "markdown",
   "metadata": {},
   "source": [
    "## Dataset 2: neuron_params_I_d_a_b"
   ]
  },
  {
   "cell_type": "code",
   "execution_count": null,
   "metadata": {
    "collapsed": true
   },
   "outputs": [],
   "source": [
    "# 16 3x16 convolutions\n",
    "inputs = Input(shape=(num_features, 1))\n",
    "conv1 = Conv1D(16, 3, padding='same', strides=1)(inputs)\n",
    "bn1 = BatchNormalization()(conv1)\n",
    "relu1 = Activation('relu')(bn1)\n",
    "\n",
    "# 32 3x16 convolutions\n",
    "conv2 = Conv1D(32, 3, padding='same', strides=1)(relu1)\n",
    "bn2 = BatchNormalization()(conv2)\n",
    "relu2 = Activation('relu')(bn2)\n",
    "flatten = Flatten()(relu2)\n",
    "\n",
    "# FC 512\n",
    "fc1 = Dense(512)(flatten)\n",
    "bn3 = BatchNormalization()(fc1)\n",
    "relu3 = Activation('relu')(bn3)\n",
    "drop1 = Dropout(0.75)(relu3)\n",
    "\n",
    "# FC 256\n",
    "fc2 = Dense(256)(drop1)\n",
    "bn4 = BatchNormalization()(fc2)\n",
    "relu4 = Activation('relu')(bn4)\n",
    "drop2 = Dropout(0.5)(relu4)\n",
    "\n",
    "# FC 128\n",
    "fc3 = Dense(128)(drop2)\n",
    "bn5 = BatchNormalization()(fc3)\n",
    "relu5 = Activation('relu')(bn5)\n",
    "drop3 = Dropout(0.5)(relu5)\n",
    "\n",
    "# Output\n",
    "fc4 = Dense(1)(drop3)\n",
    "outputs = Activation('sigmoid')(fc4)\n",
    "\n",
    "model = Model(inputs=inputs, outputs=outputs)"
   ]
  },
  {
   "cell_type": "code",
   "execution_count": null,
   "metadata": {
    "collapsed": true
   },
   "outputs": [],
   "source": [
    "opt = keras.optimizers.Adagrad()\n",
    "\n",
    "model.compile(loss = 'binary_crossentropy',\n",
    "              optimizer = opt,\n",
    "              metrics = ['accuracy'])"
   ]
  },
  {
   "cell_type": "code",
   "execution_count": null,
   "metadata": {
    "collapsed": true
   },
   "outputs": [],
   "source": [
    "model.fit(X_train_cnn, y_train,\n",
    "          batch_size=batch_size,\n",
    "          epochs=epochs,\n",
    "          validation_data=[X_test_cnn, y_test], # NOTE: must pass test data for PRTensorBoard callback\n",
    "          shuffle=True,\n",
    "          callbacks=[PRTensorBoard(log_dir='logs/nadam_dropout-50_dataset-' + str(DATASET)), EarlyStopping(monitor='val_acc', patience=2)])"
   ]
  },
  {
   "cell_type": "markdown",
   "metadata": {},
   "source": [
    "## Dataset 3: neuron_params_I_d_a"
   ]
  },
  {
   "cell_type": "code",
   "execution_count": 15,
   "metadata": {},
   "outputs": [],
   "source": [
    "# Conv 8x3\n",
    "inputs = Input(shape=(num_features, 1))\n",
    "conv1 = Conv1D(8, 3, padding='same', strides=1)(inputs)\n",
    "bn1 = BatchNormalization()(conv1)\n",
    "relu1 = Activation('relu')(bn1)\n",
    "flatten = Flatten()(relu1)\n",
    "\n",
    "# FC 32\n",
    "fc1 = Dense(32)(flatten)\n",
    "bn3 = BatchNormalization()(fc1)\n",
    "relu3 = Activation('relu')(bn3)\n",
    "\n",
    "# FC 16\n",
    "fc2 = Dense(16)(relu3)\n",
    "bn4 = BatchNormalization()(fc2)\n",
    "relu4 = Activation('relu')(bn4)\n",
    "\n",
    "# FC 16\n",
    "fc3 = Dense(16)(relu4)\n",
    "bn5 = BatchNormalization()(fc3)\n",
    "relu5 = Activation('relu')(bn5)\n",
    "\n",
    "# Output\n",
    "fc4 = Dense(1)(relu5)\n",
    "outputs = Activation('sigmoid')(fc4)\n",
    "\n",
    "model = Model(inputs=inputs, outputs=outputs)"
   ]
  },
  {
   "cell_type": "code",
   "execution_count": 22,
   "metadata": {
    "collapsed": true
   },
   "outputs": [],
   "source": [
    "opt = keras.optimizers.Nadam()\n",
    "\n",
    "model.compile(loss = 'binary_crossentropy',\n",
    "              optimizer = opt,\n",
    "              metrics = ['accuracy'])"
   ]
  },
  {
   "cell_type": "code",
   "execution_count": 23,
   "metadata": {},
   "outputs": [
    {
     "name": "stdout",
     "output_type": "stream",
     "text": [
      "Train on 88000 samples, validate on 22000 samples\n",
      "Epoch 1/10\n",
      "88000/88000 [==============================] - 16s 187us/step - loss: 0.0668 - acc: 0.9728 - val_loss: 0.0590 - val_acc: 0.9777\n",
      "Epoch 2/10\n",
      "88000/88000 [==============================] - 16s 179us/step - loss: 0.0648 - acc: 0.9735 - val_loss: 0.0579 - val_acc: 0.9779\n",
      "Epoch 3/10\n",
      "88000/88000 [==============================] - 16s 180us/step - loss: 0.0636 - acc: 0.9739 - val_loss: 0.0571 - val_acc: 0.9779\n",
      "Epoch 4/10\n",
      "88000/88000 [==============================] - 16s 180us/step - loss: 0.0636 - acc: 0.9737 - val_loss: 0.0573 - val_acc: 0.9777\n",
      "Epoch 5/10\n",
      "88000/88000 [==============================] - 16s 178us/step - loss: 0.0629 - acc: 0.9742 - val_loss: 0.0571 - val_acc: 0.9780\n",
      "Epoch 6/10\n",
      "88000/88000 [==============================] - 16s 181us/step - loss: 0.0617 - acc: 0.9744 - val_loss: 0.0569 - val_acc: 0.9776\n",
      "Epoch 7/10\n",
      "88000/88000 [==============================] - 16s 181us/step - loss: 0.0638 - acc: 0.9738 - val_loss: 0.0567 - val_acc: 0.9780\n"
     ]
    },
    {
     "data": {
      "text/plain": [
       "<keras.callbacks.History at 0x129c9efd0>"
      ]
     },
     "execution_count": 23,
     "metadata": {},
     "output_type": "execute_result"
    }
   ],
   "source": [
    "model.fit(X_train_cnn, y_train,\n",
    "          batch_size=batch_size,\n",
    "          epochs=epochs,\n",
    "          validation_data=[X_test_cnn, y_test], # NOTE: must pass test data for PRTensorBoard callback\n",
    "          shuffle=True,\n",
    "          callbacks=[PRTensorBoard(log_dir='logs/adam_dropout-50_dataset-' + str(DATASET)), EarlyStopping(monitor='val_acc', patience=2)])"
   ]
  },
  {
   "cell_type": "markdown",
   "metadata": {},
   "source": [
    "# Performance Scores"
   ]
  },
  {
   "cell_type": "code",
   "execution_count": null,
   "metadata": {
    "collapsed": true
   },
   "outputs": [],
   "source": [
    "results = [0.98625, 0.9728, 0.9757, 0.978, 0]\n",
    "labels = ['d_I', 'I_d_a_b_c', 'I_d_a_b', 'I_d_a', 'I']"
   ]
  }
 ],
 "metadata": {
  "kernelspec": {
   "display_name": "Python 2",
   "language": "python",
   "name": "python2"
  },
  "language_info": {
   "codemirror_mode": {
    "name": "ipython",
    "version": 2
   },
   "file_extension": ".py",
   "mimetype": "text/x-python",
   "name": "python",
   "nbconvert_exporter": "python",
   "pygments_lexer": "ipython2",
   "version": "2.7.14"
  }
 },
 "nbformat": 4,
 "nbformat_minor": 2
}
