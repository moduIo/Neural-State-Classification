{
 "cells": [
  {
   "cell_type": "code",
   "execution_count": 1,
   "metadata": {},
   "outputs": [
    {
     "name": "stderr",
     "output_type": "stream",
     "text": [
      "/Users/tim/anaconda2/lib/python2.7/site-packages/h5py/__init__.py:34: FutureWarning: Conversion of the second argument of issubdtype from `float` to `np.floating` is deprecated. In future, it will be treated as `np.float64 == np.dtype(float).type`.\n",
      "  from ._conv import register_converters as _register_converters\n",
      "Using TensorFlow backend.\n"
     ]
    }
   ],
   "source": [
    "import pandas as pd\n",
    "import numpy as np\n",
    "from sklearn.model_selection import train_test_split\n",
    "import keras\n",
    "from keras.models import Sequential\n",
    "from keras.layers import Dense, Dropout, Activation, MaxPooling1D, Flatten, Embedding\n",
    "from keras.layers.convolutional import Conv1D\n",
    "from keras.layers.normalization import BatchNormalization\n",
    "\n",
    "%matplotlib inline"
   ]
  },
  {
   "cell_type": "markdown",
   "metadata": {},
   "source": [
    "# Data Exploration"
   ]
  },
  {
   "cell_type": "code",
   "execution_count": 2,
   "metadata": {
    "collapsed": true
   },
   "outputs": [],
   "source": [
    "data = pd.read_csv('../../datasets/heli_uniform/heli_1m_uniform.csv')"
   ]
  },
  {
   "cell_type": "code",
   "execution_count": 3,
   "metadata": {},
   "outputs": [
    {
     "data": {
      "text/html": [
       "<div>\n",
       "<style>\n",
       "    .dataframe thead tr:only-child th {\n",
       "        text-align: right;\n",
       "    }\n",
       "\n",
       "    .dataframe thead th {\n",
       "        text-align: left;\n",
       "    }\n",
       "\n",
       "    .dataframe tbody tr th {\n",
       "        vertical-align: top;\n",
       "    }\n",
       "</style>\n",
       "<table border=\"1\" class=\"dataframe\">\n",
       "  <thead>\n",
       "    <tr style=\"text-align: right;\">\n",
       "      <th></th>\n",
       "      <th>1</th>\n",
       "      <th>2</th>\n",
       "      <th>3</th>\n",
       "      <th>4</th>\n",
       "      <th>5</th>\n",
       "      <th>6</th>\n",
       "      <th>7</th>\n",
       "      <th>8</th>\n",
       "      <th>9</th>\n",
       "      <th>10</th>\n",
       "      <th>...</th>\n",
       "      <th>20</th>\n",
       "      <th>21</th>\n",
       "      <th>22</th>\n",
       "      <th>23</th>\n",
       "      <th>24</th>\n",
       "      <th>25</th>\n",
       "      <th>26</th>\n",
       "      <th>27</th>\n",
       "      <th>28</th>\n",
       "      <th>label</th>\n",
       "    </tr>\n",
       "  </thead>\n",
       "  <tbody>\n",
       "    <tr>\n",
       "      <th>0</th>\n",
       "      <td>0.31096</td>\n",
       "      <td>-0.65763</td>\n",
       "      <td>0.41209</td>\n",
       "      <td>-0.936330</td>\n",
       "      <td>-0.446150</td>\n",
       "      <td>-0.90766</td>\n",
       "      <td>-0.805740</td>\n",
       "      <td>0.64692</td>\n",
       "      <td>0.389660</td>\n",
       "      <td>-0.36580</td>\n",
       "      <td>...</td>\n",
       "      <td>0.292630</td>\n",
       "      <td>0.41873</td>\n",
       "      <td>0.50937</td>\n",
       "      <td>-0.44795</td>\n",
       "      <td>0.359410</td>\n",
       "      <td>0.31020</td>\n",
       "      <td>-0.67478</td>\n",
       "      <td>-0.762000</td>\n",
       "      <td>-0.003272</td>\n",
       "      <td>1</td>\n",
       "    </tr>\n",
       "    <tr>\n",
       "      <th>1</th>\n",
       "      <td>0.91949</td>\n",
       "      <td>-0.31923</td>\n",
       "      <td>0.17054</td>\n",
       "      <td>-0.552380</td>\n",
       "      <td>0.502530</td>\n",
       "      <td>-0.48981</td>\n",
       "      <td>0.011914</td>\n",
       "      <td>0.39815</td>\n",
       "      <td>0.781810</td>\n",
       "      <td>0.91858</td>\n",
       "      <td>...</td>\n",
       "      <td>-0.300030</td>\n",
       "      <td>-0.60681</td>\n",
       "      <td>-0.49783</td>\n",
       "      <td>0.23209</td>\n",
       "      <td>-0.053422</td>\n",
       "      <td>-0.29668</td>\n",
       "      <td>0.66166</td>\n",
       "      <td>0.170530</td>\n",
       "      <td>0.099447</td>\n",
       "      <td>1</td>\n",
       "    </tr>\n",
       "    <tr>\n",
       "      <th>2</th>\n",
       "      <td>0.83439</td>\n",
       "      <td>-0.42832</td>\n",
       "      <td>0.51440</td>\n",
       "      <td>0.507460</td>\n",
       "      <td>-0.239110</td>\n",
       "      <td>0.13564</td>\n",
       "      <td>-0.848290</td>\n",
       "      <td>-0.89210</td>\n",
       "      <td>0.061595</td>\n",
       "      <td>0.55833</td>\n",
       "      <td>...</td>\n",
       "      <td>0.057066</td>\n",
       "      <td>-0.66870</td>\n",
       "      <td>0.20396</td>\n",
       "      <td>-0.47406</td>\n",
       "      <td>0.308160</td>\n",
       "      <td>0.37843</td>\n",
       "      <td>0.49630</td>\n",
       "      <td>-0.098917</td>\n",
       "      <td>-0.832360</td>\n",
       "      <td>1</td>\n",
       "    </tr>\n",
       "    <tr>\n",
       "      <th>3</th>\n",
       "      <td>-0.54205</td>\n",
       "      <td>0.82667</td>\n",
       "      <td>-0.69524</td>\n",
       "      <td>0.651630</td>\n",
       "      <td>0.076685</td>\n",
       "      <td>0.99227</td>\n",
       "      <td>-0.843650</td>\n",
       "      <td>-0.11464</td>\n",
       "      <td>-0.786690</td>\n",
       "      <td>0.92380</td>\n",
       "      <td>...</td>\n",
       "      <td>0.821300</td>\n",
       "      <td>-0.63631</td>\n",
       "      <td>-0.47239</td>\n",
       "      <td>-0.70892</td>\n",
       "      <td>-0.727860</td>\n",
       "      <td>0.73858</td>\n",
       "      <td>0.15941</td>\n",
       "      <td>0.099720</td>\n",
       "      <td>-0.710090</td>\n",
       "      <td>1</td>\n",
       "    </tr>\n",
       "    <tr>\n",
       "      <th>4</th>\n",
       "      <td>0.70606</td>\n",
       "      <td>0.24411</td>\n",
       "      <td>-0.29810</td>\n",
       "      <td>0.026499</td>\n",
       "      <td>-0.196380</td>\n",
       "      <td>-0.84807</td>\n",
       "      <td>-0.520170</td>\n",
       "      <td>-0.75336</td>\n",
       "      <td>-0.632180</td>\n",
       "      <td>-0.52009</td>\n",
       "      <td>...</td>\n",
       "      <td>-0.777590</td>\n",
       "      <td>0.56050</td>\n",
       "      <td>-0.22052</td>\n",
       "      <td>-0.51662</td>\n",
       "      <td>-0.192180</td>\n",
       "      <td>-0.80709</td>\n",
       "      <td>-0.73605</td>\n",
       "      <td>0.884100</td>\n",
       "      <td>0.912270</td>\n",
       "      <td>1</td>\n",
       "    </tr>\n",
       "  </tbody>\n",
       "</table>\n",
       "<p>5 rows × 29 columns</p>\n",
       "</div>"
      ],
      "text/plain": [
       "         1        2        3         4         5        6         7        8  \\\n",
       "0  0.31096 -0.65763  0.41209 -0.936330 -0.446150 -0.90766 -0.805740  0.64692   \n",
       "1  0.91949 -0.31923  0.17054 -0.552380  0.502530 -0.48981  0.011914  0.39815   \n",
       "2  0.83439 -0.42832  0.51440  0.507460 -0.239110  0.13564 -0.848290 -0.89210   \n",
       "3 -0.54205  0.82667 -0.69524  0.651630  0.076685  0.99227 -0.843650 -0.11464   \n",
       "4  0.70606  0.24411 -0.29810  0.026499 -0.196380 -0.84807 -0.520170 -0.75336   \n",
       "\n",
       "          9       10  ...          20       21       22       23        24  \\\n",
       "0  0.389660 -0.36580  ...    0.292630  0.41873  0.50937 -0.44795  0.359410   \n",
       "1  0.781810  0.91858  ...   -0.300030 -0.60681 -0.49783  0.23209 -0.053422   \n",
       "2  0.061595  0.55833  ...    0.057066 -0.66870  0.20396 -0.47406  0.308160   \n",
       "3 -0.786690  0.92380  ...    0.821300 -0.63631 -0.47239 -0.70892 -0.727860   \n",
       "4 -0.632180 -0.52009  ...   -0.777590  0.56050 -0.22052 -0.51662 -0.192180   \n",
       "\n",
       "        25       26        27        28  label  \n",
       "0  0.31020 -0.67478 -0.762000 -0.003272      1  \n",
       "1 -0.29668  0.66166  0.170530  0.099447      1  \n",
       "2  0.37843  0.49630 -0.098917 -0.832360      1  \n",
       "3  0.73858  0.15941  0.099720 -0.710090      1  \n",
       "4 -0.80709 -0.73605  0.884100  0.912270      1  \n",
       "\n",
       "[5 rows x 29 columns]"
      ]
     },
     "execution_count": 3,
     "metadata": {},
     "output_type": "execute_result"
    }
   ],
   "source": [
    "data.head()"
   ]
  },
  {
   "cell_type": "code",
   "execution_count": 4,
   "metadata": {},
   "outputs": [
    {
     "data": {
      "text/plain": [
       "array([[<matplotlib.axes._subplots.AxesSubplot object at 0x1133e02d0>,\n",
       "        <matplotlib.axes._subplots.AxesSubplot object at 0x108a79dd0>,\n",
       "        <matplotlib.axes._subplots.AxesSubplot object at 0x108a9bd90>],\n",
       "       [<matplotlib.axes._subplots.AxesSubplot object at 0x108b0da50>,\n",
       "        <matplotlib.axes._subplots.AxesSubplot object at 0x10a626190>,\n",
       "        <matplotlib.axes._subplots.AxesSubplot object at 0x10a667b50>],\n",
       "       [<matplotlib.axes._subplots.AxesSubplot object at 0x10a6b62d0>,\n",
       "        <matplotlib.axes._subplots.AxesSubplot object at 0x10c3f0050>,\n",
       "        <matplotlib.axes._subplots.AxesSubplot object at 0x10c403d90>],\n",
       "       [<matplotlib.axes._subplots.AxesSubplot object at 0x10c460a50>,\n",
       "        <matplotlib.axes._subplots.AxesSubplot object at 0x10c4ae3d0>,\n",
       "        <matplotlib.axes._subplots.AxesSubplot object at 0x10c4cc210>],\n",
       "       [<matplotlib.axes._subplots.AxesSubplot object at 0x10c53f510>,\n",
       "        <matplotlib.axes._subplots.AxesSubplot object at 0x10c506850>,\n",
       "        <matplotlib.axes._subplots.AxesSubplot object at 0x10c5a31d0>],\n",
       "       [<matplotlib.axes._subplots.AxesSubplot object at 0x10c6095d0>,\n",
       "        <matplotlib.axes._subplots.AxesSubplot object at 0x10c64ad10>,\n",
       "        <matplotlib.axes._subplots.AxesSubplot object at 0x10c66e810>],\n",
       "       [<matplotlib.axes._subplots.AxesSubplot object at 0x10c6d7510>,\n",
       "        <matplotlib.axes._subplots.AxesSubplot object at 0x10c717dd0>,\n",
       "        <matplotlib.axes._subplots.AxesSubplot object at 0x10c743450>],\n",
       "       [<matplotlib.axes._subplots.AxesSubplot object at 0x10c7abf10>,\n",
       "        <matplotlib.axes._subplots.AxesSubplot object at 0x10c776e50>,\n",
       "        <matplotlib.axes._subplots.AxesSubplot object at 0x113c2c810>],\n",
       "       [<matplotlib.axes._subplots.AxesSubplot object at 0x113c7b090>,\n",
       "        <matplotlib.axes._subplots.AxesSubplot object at 0x11c80d7d0>,\n",
       "        <matplotlib.axes._subplots.AxesSubplot object at 0x11cfcf310>],\n",
       "       [<matplotlib.axes._subplots.AxesSubplot object at 0x11d027f90>,\n",
       "        <matplotlib.axes._subplots.AxesSubplot object at 0x11d07c890>,\n",
       "        <matplotlib.axes._subplots.AxesSubplot object at 0x11d09c850>]],\n",
       "      dtype=object)"
      ]
     },
     "execution_count": 4,
     "metadata": {},
     "output_type": "execute_result"
    },
    {
     "data": {
      "image/png": "[encoded data removed]",
      "text/plain": [
       "<matplotlib.figure.Figure at 0x1133e0a90>"
      ]
     },
     "metadata": {},
     "output_type": "display_data"
    }
   ],
   "source": [
    "data.hist(grid=False, figsize=(15,40), layout=(10,3), bins=100, sharex=True)"
   ]
  },
  {
   "cell_type": "code",
   "execution_count": 5,
   "metadata": {},
   "outputs": [
    {
     "name": "stdout",
     "output_type": "stream",
     "text": [
      "(1000000, 28)\n"
     ]
    }
   ],
   "source": [
    "X = data.drop('label', axis=1)\n",
    "y = data['label']\n",
    "(num_samples, num_features) = X.shape\n",
    "print (num_samples, num_features)"
   ]
  },
  {
   "cell_type": "code",
   "execution_count": 6,
   "metadata": {
    "collapsed": true
   },
   "outputs": [],
   "source": [
    "X_train, X_test, y_train, y_test = train_test_split(X, y, test_size=0.20, random_state=42, shuffle=True)"
   ]
  },
  {
   "cell_type": "markdown",
   "metadata": {},
   "source": [
    "# DNN Model"
   ]
  },
  {
   "cell_type": "code",
   "execution_count": 11,
   "metadata": {
    "collapsed": true
   },
   "outputs": [],
   "source": [
    "epochs = 10\n",
    "batch_size = 32"
   ]
  },
  {
   "cell_type": "code",
   "execution_count": 49,
   "metadata": {
    "collapsed": true
   },
   "outputs": [],
   "source": [
    "model = Sequential()\n",
    "\n",
    "model.add(Dense(16, input_shape=(num_features,)))\n",
    "model.add(BatchNormalization())\n",
    "model.add(Activation('relu'))\n",
    "\n",
    "model.add(Dense(16))\n",
    "model.add(BatchNormalization())\n",
    "model.add(Activation('relu'))\n",
    "\n",
    "model.add(Dense(16))\n",
    "model.add(BatchNormalization())\n",
    "model.add(Activation('relu'))\n",
    "\n",
    "model.add(Dense(1))\n",
    "model.add(Activation('sigmoid'))"
   ]
  },
  {
   "cell_type": "code",
   "execution_count": 51,
   "metadata": {
    "collapsed": true
   },
   "outputs": [],
   "source": [
    "opt = keras.optimizers.Adam(lr=0.001, beta_1=0.9, beta_2=0.999, epsilon=None, decay=0.0, amsgrad=False)\n",
    "\n",
    "model.compile(loss = 'binary_crossentropy',\n",
    "              optimizer = opt,\n",
    "              metrics = ['accuracy'])"
   ]
  },
  {
   "cell_type": "code",
   "execution_count": 52,
   "metadata": {},
   "outputs": [
    {
     "name": "stdout",
     "output_type": "stream",
     "text": [
      "Train on 640000 samples, validate on 160000 samples\n",
      "Epoch 1/10\n",
      "640000/640000 [==============================] - 89s 139us/step - loss: 0.4088 - acc: 0.8253 - val_loss: 0.3476 - val_acc: 0.8538\n",
      "Epoch 2/10\n",
      "640000/640000 [==============================] - 86s 135us/step - loss: 0.3687 - acc: 0.8414 - val_loss: 0.3255 - val_acc: 0.8644\n",
      "Epoch 3/10\n",
      "640000/640000 [==============================] - 90s 140us/step - loss: 0.3595 - acc: 0.8454 - val_loss: 0.3206 - val_acc: 0.8652\n",
      "Epoch 4/10\n",
      "640000/640000 [==============================] - 89s 139us/step - loss: 0.3551 - acc: 0.8474 - val_loss: 0.3082 - val_acc: 0.8744\n",
      "Epoch 5/10\n",
      "640000/640000 [==============================] - 86s 135us/step - loss: 0.3512 - acc: 0.8488 - val_loss: 0.3057 - val_acc: 0.8720\n",
      "Epoch 6/10\n",
      "640000/640000 [==============================] - 85s 133us/step - loss: 0.3475 - acc: 0.8507 - val_loss: 0.2947 - val_acc: 0.8800\n",
      "Epoch 7/10\n",
      "640000/640000 [==============================] - 85s 133us/step - loss: 0.3438 - acc: 0.8523 - val_loss: 0.2908 - val_acc: 0.8807\n",
      "Epoch 8/10\n",
      "640000/640000 [==============================] - 84s 131us/step - loss: 0.3422 - acc: 0.8526 - val_loss: 0.2861 - val_acc: 0.8851\n",
      "Epoch 9/10\n",
      "640000/640000 [==============================] - 87s 136us/step - loss: 0.3405 - acc: 0.8534 - val_loss: 0.2848 - val_acc: 0.8840\n",
      "Epoch 10/10\n",
      "640000/640000 [==============================] - 86s 134us/step - loss: 0.3398 - acc: 0.8542 - val_loss: 0.2837 - val_acc: 0.8857\n"
     ]
    },
    {
     "data": {
      "text/plain": [
       "<keras.callbacks.History at 0x14b70d090>"
      ]
     },
     "execution_count": 52,
     "metadata": {},
     "output_type": "execute_result"
    }
   ],
   "source": [
    "model.fit(X_train, y_train,\n",
    "          batch_size=batch_size,\n",
    "          epochs=epochs,\n",
    "          validation_split=0.2,\n",
    "          shuffle=True)"
   ]
  },
  {
   "cell_type": "code",
   "execution_count": 131,
   "metadata": {},
   "outputs": [
    {
     "ename": "ValueError",
     "evalue": "Error when checking input: expected conv1d_35_input to have 3 dimensions, but got array with shape (200000, 28)",
     "output_type": "error",
     "traceback": [
      "\u001b[0;31m---------------------------------------------------------------------------\u001b[0m",
      "\u001b[0;31mValueError\u001b[0m                                Traceback (most recent call last)",
      "\u001b[0;32m<ipython-input-131-25fe0c28242c>\u001b[0m in \u001b[0;36m<module>\u001b[0;34m()\u001b[0m\n\u001b[0;32m----> 1\u001b[0;31m \u001b[0mscore\u001b[0m \u001b[0;34m=\u001b[0m \u001b[0mmodel\u001b[0m\u001b[0;34m.\u001b[0m\u001b[0mevaluate\u001b[0m\u001b[0;34m(\u001b[0m\u001b[0mX_test\u001b[0m\u001b[0;34m,\u001b[0m \u001b[0my_test\u001b[0m\u001b[0;34m,\u001b[0m \u001b[0mbatch_size\u001b[0m\u001b[0;34m=\u001b[0m\u001b[0mbatch_size\u001b[0m\u001b[0;34m)\u001b[0m\u001b[0;34m\u001b[0m\u001b[0m\n\u001b[0m\u001b[1;32m      2\u001b[0m \u001b[0;32mprint\u001b[0m \u001b[0mmodel\u001b[0m\u001b[0;34m.\u001b[0m\u001b[0mmetrics_names\u001b[0m\u001b[0;34m\u001b[0m\u001b[0m\n\u001b[1;32m      3\u001b[0m \u001b[0;32mprint\u001b[0m \u001b[0mscore\u001b[0m\u001b[0;34m\u001b[0m\u001b[0m\n",
      "\u001b[0;32m/Users/tim/anaconda2/lib/python2.7/site-packages/keras/models.pyc\u001b[0m in \u001b[0;36mevaluate\u001b[0;34m(self, x, y, batch_size, verbose, sample_weight, steps)\u001b[0m\n\u001b[1;32m   1002\u001b[0m                                    \u001b[0mverbose\u001b[0m\u001b[0;34m=\u001b[0m\u001b[0mverbose\u001b[0m\u001b[0;34m,\u001b[0m\u001b[0;34m\u001b[0m\u001b[0m\n\u001b[1;32m   1003\u001b[0m                                    \u001b[0msample_weight\u001b[0m\u001b[0;34m=\u001b[0m\u001b[0msample_weight\u001b[0m\u001b[0;34m,\u001b[0m\u001b[0;34m\u001b[0m\u001b[0m\n\u001b[0;32m-> 1004\u001b[0;31m                                    steps=steps)\n\u001b[0m\u001b[1;32m   1005\u001b[0m \u001b[0;34m\u001b[0m\u001b[0m\n\u001b[1;32m   1006\u001b[0m     \u001b[0;32mdef\u001b[0m \u001b[0mpredict\u001b[0m\u001b[0;34m(\u001b[0m\u001b[0mself\u001b[0m\u001b[0;34m,\u001b[0m \u001b[0mx\u001b[0m\u001b[0;34m,\u001b[0m \u001b[0mbatch_size\u001b[0m\u001b[0;34m=\u001b[0m\u001b[0mNone\u001b[0m\u001b[0;34m,\u001b[0m \u001b[0mverbose\u001b[0m\u001b[0;34m=\u001b[0m\u001b[0;36m0\u001b[0m\u001b[0;34m,\u001b[0m \u001b[0msteps\u001b[0m\u001b[0;34m=\u001b[0m\u001b[0mNone\u001b[0m\u001b[0;34m)\u001b[0m\u001b[0;34m:\u001b[0m\u001b[0;34m\u001b[0m\u001b[0m\n",
      "\u001b[0;32m/Users/tim/anaconda2/lib/python2.7/site-packages/keras/engine/training.pyc\u001b[0m in \u001b[0;36mevaluate\u001b[0;34m(self, x, y, batch_size, verbose, sample_weight, steps)\u001b[0m\n\u001b[1;32m   1766\u001b[0m             \u001b[0mx\u001b[0m\u001b[0;34m,\u001b[0m \u001b[0my\u001b[0m\u001b[0;34m,\u001b[0m\u001b[0;34m\u001b[0m\u001b[0m\n\u001b[1;32m   1767\u001b[0m             \u001b[0msample_weight\u001b[0m\u001b[0;34m=\u001b[0m\u001b[0msample_weight\u001b[0m\u001b[0;34m,\u001b[0m\u001b[0;34m\u001b[0m\u001b[0m\n\u001b[0;32m-> 1768\u001b[0;31m             batch_size=batch_size)\n\u001b[0m\u001b[1;32m   1769\u001b[0m         \u001b[0;31m# Prepare inputs, delegate logic to `_test_loop`.\u001b[0m\u001b[0;34m\u001b[0m\u001b[0;34m\u001b[0m\u001b[0m\n\u001b[1;32m   1770\u001b[0m         \u001b[0;32mif\u001b[0m \u001b[0mself\u001b[0m\u001b[0;34m.\u001b[0m\u001b[0muses_learning_phase\u001b[0m \u001b[0;32mand\u001b[0m \u001b[0;32mnot\u001b[0m \u001b[0misinstance\u001b[0m\u001b[0;34m(\u001b[0m\u001b[0mK\u001b[0m\u001b[0;34m.\u001b[0m\u001b[0mlearning_phase\u001b[0m\u001b[0;34m(\u001b[0m\u001b[0;34m)\u001b[0m\u001b[0;34m,\u001b[0m \u001b[0mint\u001b[0m\u001b[0;34m)\u001b[0m\u001b[0;34m:\u001b[0m\u001b[0;34m\u001b[0m\u001b[0m\n",
      "\u001b[0;32m/Users/tim/anaconda2/lib/python2.7/site-packages/keras/engine/training.pyc\u001b[0m in \u001b[0;36m_standardize_user_data\u001b[0;34m(self, x, y, sample_weight, class_weight, check_array_lengths, batch_size)\u001b[0m\n\u001b[1;32m   1474\u001b[0m                                     \u001b[0mself\u001b[0m\u001b[0;34m.\u001b[0m\u001b[0m_feed_input_shapes\u001b[0m\u001b[0;34m,\u001b[0m\u001b[0;34m\u001b[0m\u001b[0m\n\u001b[1;32m   1475\u001b[0m                                     \u001b[0mcheck_batch_axis\u001b[0m\u001b[0;34m=\u001b[0m\u001b[0mFalse\u001b[0m\u001b[0;34m,\u001b[0m\u001b[0;34m\u001b[0m\u001b[0m\n\u001b[0;32m-> 1476\u001b[0;31m                                     exception_prefix='input')\n\u001b[0m\u001b[1;32m   1477\u001b[0m         y = _standardize_input_data(y, self._feed_output_names,\n\u001b[1;32m   1478\u001b[0m                                     \u001b[0moutput_shapes\u001b[0m\u001b[0;34m,\u001b[0m\u001b[0;34m\u001b[0m\u001b[0m\n",
      "\u001b[0;32m/Users/tim/anaconda2/lib/python2.7/site-packages/keras/engine/training.pyc\u001b[0m in \u001b[0;36m_standardize_input_data\u001b[0;34m(data, names, shapes, check_batch_axis, exception_prefix)\u001b[0m\n\u001b[1;32m    111\u001b[0m                         \u001b[0;34m': expected '\u001b[0m \u001b[0;34m+\u001b[0m \u001b[0mnames\u001b[0m\u001b[0;34m[\u001b[0m\u001b[0mi\u001b[0m\u001b[0;34m]\u001b[0m \u001b[0;34m+\u001b[0m \u001b[0;34m' to have '\u001b[0m \u001b[0;34m+\u001b[0m\u001b[0;34m\u001b[0m\u001b[0m\n\u001b[1;32m    112\u001b[0m                         \u001b[0mstr\u001b[0m\u001b[0;34m(\u001b[0m\u001b[0mlen\u001b[0m\u001b[0;34m(\u001b[0m\u001b[0mshape\u001b[0m\u001b[0;34m)\u001b[0m\u001b[0;34m)\u001b[0m \u001b[0;34m+\u001b[0m \u001b[0;34m' dimensions, but got array '\u001b[0m\u001b[0;34m\u001b[0m\u001b[0m\n\u001b[0;32m--> 113\u001b[0;31m                         'with shape ' + str(data_shape))\n\u001b[0m\u001b[1;32m    114\u001b[0m                 \u001b[0;32mif\u001b[0m \u001b[0;32mnot\u001b[0m \u001b[0mcheck_batch_axis\u001b[0m\u001b[0;34m:\u001b[0m\u001b[0;34m\u001b[0m\u001b[0m\n\u001b[1;32m    115\u001b[0m                     \u001b[0mdata_shape\u001b[0m \u001b[0;34m=\u001b[0m \u001b[0mdata_shape\u001b[0m\u001b[0;34m[\u001b[0m\u001b[0;36m1\u001b[0m\u001b[0;34m:\u001b[0m\u001b[0;34m]\u001b[0m\u001b[0;34m\u001b[0m\u001b[0m\n",
      "\u001b[0;31mValueError\u001b[0m: Error when checking input: expected conv1d_35_input to have 3 dimensions, but got array with shape (200000, 28)"
     ]
    }
   ],
   "source": [
    "score = model.evaluate(X_test, y_test, batch_size=batch_size)\n",
    "print model.metrics_names\n",
    "print score"
   ]
  },
  {
   "cell_type": "markdown",
   "metadata": {},
   "source": [
    "# CNN Model"
   ]
  },
  {
   "cell_type": "code",
   "execution_count": 7,
   "metadata": {
    "collapsed": true
   },
   "outputs": [],
   "source": [
    "X_train_cnn = np.expand_dims(X_train.as_matrix(), axis=2)\n",
    "X_test_cnn = np.expand_dims(X_test.as_matrix(), axis=2)"
   ]
  },
  {
   "cell_type": "code",
   "execution_count": 28,
   "metadata": {},
   "outputs": [],
   "source": [
    "model = Sequential()\n",
    "\n",
    "model.add(Conv1D(16, 3, padding='same', strides=1, input_shape=(num_features, 1)))\n",
    "model.add(BatchNormalization())\n",
    "model.add(Activation('relu'))\n",
    "\n",
    "model.add(Conv1D(32, 3, padding='same', strides=1))\n",
    "model.add(BatchNormalization())\n",
    "model.add(Activation('relu'))\n",
    "\n",
    "model.add(Flatten())\n",
    "\n",
    "model.add(Dense(2048))\n",
    "model.add(BatchNormalization())\n",
    "model.add(Activation('relu'))\n",
    "#model.add(Dropout(0.25))\n",
    "\n",
    "model.add(Dense(1024))\n",
    "model.add(BatchNormalization())\n",
    "model.add(Activation('relu'))\n",
    "#model.add(Dropout(0.25))\n",
    "\n",
    "model.add(Dense(512))\n",
    "model.add(BatchNormalization())\n",
    "model.add(Activation('relu'))\n",
    "#model.add(Dropout(0.25))\n",
    "\n",
    "model.add(Dense(1))\n",
    "model.add(Activation('sigmoid'))"
   ]
  },
  {
   "cell_type": "code",
   "execution_count": 29,
   "metadata": {
    "collapsed": true
   },
   "outputs": [],
   "source": [
    "opt = keras.optimizers.Adam(lr=0.001, beta_1=0.9, beta_2=0.999, epsilon=None, decay=0.0, amsgrad=False)\n",
    "\n",
    "model.compile(loss = 'binary_crossentropy',\n",
    "              optimizer = opt,\n",
    "              metrics = ['accuracy'])"
   ]
  },
  {
   "cell_type": "code",
   "execution_count": 30,
   "metadata": {},
   "outputs": [
    {
     "name": "stdout",
     "output_type": "stream",
     "text": [
      "Train on 640000 samples, validate on 160000 samples\n",
      "Epoch 1/10\n",
      "640000/640000 [==============================] - 1860s 3ms/step - loss: 0.2676 - acc: 0.8844 - val_loss: 0.1795 - val_acc: 0.9229\n",
      "Epoch 2/10\n",
      "640000/640000 [==============================] - 1869s 3ms/step - loss: 0.1914 - acc: 0.9184 - val_loss: 0.1441 - val_acc: 0.9402\n",
      "Epoch 3/10\n",
      "640000/640000 [==============================] - 1874s 3ms/step - loss: 0.1653 - acc: 0.9297 - val_loss: 0.1317 - val_acc: 0.9443\n",
      "Epoch 4/10\n",
      "640000/640000 [==============================] - 1862s 3ms/step - loss: 0.1472 - acc: 0.9375 - val_loss: 0.1191 - val_acc: 0.9508\n",
      "Epoch 5/10\n",
      "640000/640000 [==============================] - 1838s 3ms/step - loss: 0.1336 - acc: 0.9437 - val_loss: 0.1173 - val_acc: 0.9508\n",
      "Epoch 6/10\n",
      "640000/640000 [==============================] - 1851s 3ms/step - loss: 0.1228 - acc: 0.9487 - val_loss: 0.1098 - val_acc: 0.9538\n",
      "Epoch 7/10\n",
      "640000/640000 [==============================] - 1862s 3ms/step - loss: 0.1142 - acc: 0.9525 - val_loss: 0.1104 - val_acc: 0.9532\n",
      "Epoch 8/10\n",
      "640000/640000 [==============================] - 1864s 3ms/step - loss: 0.1058 - acc: 0.9561 - val_loss: 0.1049 - val_acc: 0.9558\n",
      "Epoch 9/10\n",
      "640000/640000 [==============================] - 1886s 3ms/step - loss: 0.0992 - acc: 0.9594 - val_loss: 0.1127 - val_acc: 0.9518\n",
      "Epoch 10/10\n",
      "640000/640000 [==============================] - 1897s 3ms/step - loss: 0.0923 - acc: 0.9623 - val_loss: 0.1168 - val_acc: 0.9495\n"
     ]
    },
    {
     "data": {
      "text/plain": [
       "<keras.callbacks.History at 0x15de2fa90>"
      ]
     },
     "execution_count": 30,
     "metadata": {},
     "output_type": "execute_result"
    }
   ],
   "source": [
    "model.fit(X_train_cnn, y_train,\n",
    "          batch_size=batch_size,\n",
    "          epochs=epochs,\n",
    "          validation_split=0.2,\n",
    "          shuffle=True)"
   ]
  },
  {
   "cell_type": "code",
   "execution_count": 31,
   "metadata": {},
   "outputs": [
    {
     "name": "stdout",
     "output_type": "stream",
     "text": [
      "200000/200000 [==============================] - 88s 438us/step\n",
      "['loss', 'acc']\n",
      "[0.11541222961869091, 0.95009]\n"
     ]
    }
   ],
   "source": [
    "score = model.evaluate(X_test_cnn, y_test, batch_size=batch_size)\n",
    "print model.metrics_names\n",
    "print score"
   ]
  },
  {
   "cell_type": "code",
   "execution_count": 32,
   "metadata": {
    "collapsed": true
   },
   "outputs": [],
   "source": [
    "model.save('models/cnn_64_128.h5')"
   ]
  },
  {
   "cell_type": "code",
   "execution_count": null,
   "metadata": {
    "collapsed": true
   },
   "outputs": [],
   "source": []
  }
 ],
 "metadata": {
  "kernelspec": {
   "display_name": "Python 2",
   "language": "python",
   "name": "python2"
  },
  "language_info": {
   "codemirror_mode": {
    "name": "ipython",
    "version": 2
   },
   "file_extension": ".py",
   "mimetype": "text/x-python",
   "name": "python",
   "nbconvert_exporter": "python",
   "pygments_lexer": "ipython2",
   "version": "2.7.14"
  }
 },
 "nbformat": 4,
 "nbformat_minor": 2
}
