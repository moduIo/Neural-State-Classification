{
 "cells": [
  {
   "cell_type": "code",
   "execution_count": 1,
   "metadata": {},
   "outputs": [
    {
     "name": "stderr",
     "output_type": "stream",
     "text": [
      "/Users/tim/anaconda2/lib/python2.7/site-packages/h5py/__init__.py:34: FutureWarning: Conversion of the second argument of issubdtype from `float` to `np.floating` is deprecated. In future, it will be treated as `np.float64 == np.dtype(float).type`.\n",
      "  from ._conv import register_converters as _register_converters\n",
      "Using TensorFlow backend.\n"
     ]
    }
   ],
   "source": [
    "import pandas as pd\n",
    "import numpy as np\n",
    "from scipy.stats import zscore\n",
    "from sklearn.model_selection import train_test_split\n",
    "import keras\n",
    "from keras.initializers import he_normal\n",
    "from keras.models import Sequential, Model\n",
    "from keras.layers import Dense, Dropout, Activation, MaxPooling1D, Flatten, Embedding, Input\n",
    "from keras.layers.convolutional import Conv1D\n",
    "from keras.layers.normalization import BatchNormalization\n",
    "from keras.callbacks import TensorBoard, EarlyStopping\n",
    "from tensorboard.plugins.pr_curve import summary as pr_summary\n",
    "\n",
    "%matplotlib inline"
   ]
  },
  {
   "cell_type": "markdown",
   "metadata": {},
   "source": [
    "# Data Exploration"
   ]
  },
  {
   "cell_type": "code",
   "execution_count": 2,
   "metadata": {
    "collapsed": true
   },
   "outputs": [],
   "source": [
    "dataset = '../../datasets/heli_uniform/hs_ds1_1m_uniform.csv' # Uniform sampling"
   ]
  },
  {
   "cell_type": "code",
   "execution_count": null,
   "metadata": {
    "collapsed": true
   },
   "outputs": [],
   "source": [
    "dataset = '../../datasets/heli_dynamics/hc_dynaware_200k.csv' # Dynamics aware sampling"
   ]
  },
  {
   "cell_type": "code",
   "execution_count": 74,
   "metadata": {
    "collapsed": true
   },
   "outputs": [],
   "source": [
    "dataset = '../../datasets/heli_uniform/hc_uniform_100k_var_t.csv' # Uniform with varying T"
   ]
  },
  {
   "cell_type": "code",
   "execution_count": 75,
   "metadata": {},
   "outputs": [],
   "source": [
    "data = pd.read_csv(dataset, header=None)"
   ]
  },
  {
   "cell_type": "code",
   "execution_count": null,
   "metadata": {},
   "outputs": [],
   "source": [
    "data.hist(grid=False, figsize=(15,40), layout=(10,3), bins=100)"
   ]
  },
  {
   "cell_type": "code",
   "execution_count": 25,
   "metadata": {},
   "outputs": [
    {
     "data": {
      "text/html": [
       "<div>\n",
       "<style>\n",
       "    .dataframe thead tr:only-child th {\n",
       "        text-align: right;\n",
       "    }\n",
       "\n",
       "    .dataframe thead th {\n",
       "        text-align: left;\n",
       "    }\n",
       "\n",
       "    .dataframe tbody tr th {\n",
       "        vertical-align: top;\n",
       "    }\n",
       "</style>\n",
       "<table border=\"1\" class=\"dataframe\">\n",
       "  <thead>\n",
       "    <tr style=\"text-align: right;\">\n",
       "      <th></th>\n",
       "      <th>0</th>\n",
       "      <th>1</th>\n",
       "      <th>2</th>\n",
       "      <th>3</th>\n",
       "      <th>4</th>\n",
       "      <th>5</th>\n",
       "      <th>6</th>\n",
       "      <th>7</th>\n",
       "      <th>8</th>\n",
       "      <th>9</th>\n",
       "      <th>...</th>\n",
       "      <th>21</th>\n",
       "      <th>22</th>\n",
       "      <th>23</th>\n",
       "      <th>24</th>\n",
       "      <th>25</th>\n",
       "      <th>26</th>\n",
       "      <th>27</th>\n",
       "      <th>28</th>\n",
       "      <th>29</th>\n",
       "      <th>30</th>\n",
       "    </tr>\n",
       "  </thead>\n",
       "  <tbody>\n",
       "    <tr>\n",
       "      <th>0</th>\n",
       "      <td>-6.8999</td>\n",
       "      <td>-8.37400</td>\n",
       "      <td>5.13050</td>\n",
       "      <td>-8.0609</td>\n",
       "      <td>-9.33130</td>\n",
       "      <td>-105.830</td>\n",
       "      <td>101.54</td>\n",
       "      <td>16.855</td>\n",
       "      <td>6.8871</td>\n",
       "      <td>11.7080</td>\n",
       "      <td>...</td>\n",
       "      <td>7.5461</td>\n",
       "      <td>24.5830</td>\n",
       "      <td>8.607700</td>\n",
       "      <td>-2.8798</td>\n",
       "      <td>-12.6510</td>\n",
       "      <td>8.0613</td>\n",
       "      <td>31.0720</td>\n",
       "      <td>27.940</td>\n",
       "      <td>4.3402</td>\n",
       "      <td>0</td>\n",
       "    </tr>\n",
       "    <tr>\n",
       "      <th>1</th>\n",
       "      <td>-4.5357</td>\n",
       "      <td>-0.52922</td>\n",
       "      <td>18.42200</td>\n",
       "      <td>-7.9649</td>\n",
       "      <td>0.81289</td>\n",
       "      <td>-115.480</td>\n",
       "      <td>-243.84</td>\n",
       "      <td>-15.475</td>\n",
       "      <td>-7.0315</td>\n",
       "      <td>2.2563</td>\n",
       "      <td>...</td>\n",
       "      <td>-3.3797</td>\n",
       "      <td>-12.4200</td>\n",
       "      <td>0.081632</td>\n",
       "      <td>10.3430</td>\n",
       "      <td>26.7400</td>\n",
       "      <td>10.4490</td>\n",
       "      <td>3.0813</td>\n",
       "      <td>52.084</td>\n",
       "      <td>5.7360</td>\n",
       "      <td>1</td>\n",
       "    </tr>\n",
       "    <tr>\n",
       "      <th>2</th>\n",
       "      <td>2.5017</td>\n",
       "      <td>-4.42380</td>\n",
       "      <td>0.87547</td>\n",
       "      <td>-3.3952</td>\n",
       "      <td>-4.49810</td>\n",
       "      <td>-76.253</td>\n",
       "      <td>340.43</td>\n",
       "      <td>50.671</td>\n",
       "      <td>-2.1604</td>\n",
       "      <td>13.8310</td>\n",
       "      <td>...</td>\n",
       "      <td>2.3620</td>\n",
       "      <td>-19.0510</td>\n",
       "      <td>-5.757100</td>\n",
       "      <td>9.1906</td>\n",
       "      <td>-23.4770</td>\n",
       "      <td>5.3194</td>\n",
       "      <td>-21.3580</td>\n",
       "      <td>37.179</td>\n",
       "      <td>5.8575</td>\n",
       "      <td>0</td>\n",
       "    </tr>\n",
       "    <tr>\n",
       "      <th>3</th>\n",
       "      <td>-4.9772</td>\n",
       "      <td>4.38300</td>\n",
       "      <td>-7.15340</td>\n",
       "      <td>-9.2472</td>\n",
       "      <td>6.23720</td>\n",
       "      <td>-272.810</td>\n",
       "      <td>-141.73</td>\n",
       "      <td>-39.216</td>\n",
       "      <td>1.4554</td>\n",
       "      <td>-15.1920</td>\n",
       "      <td>...</td>\n",
       "      <td>-3.6111</td>\n",
       "      <td>-2.8229</td>\n",
       "      <td>0.664370</td>\n",
       "      <td>8.5014</td>\n",
       "      <td>-5.2599</td>\n",
       "      <td>12.2940</td>\n",
       "      <td>-26.5540</td>\n",
       "      <td>87.247</td>\n",
       "      <td>6.8625</td>\n",
       "      <td>1</td>\n",
       "    </tr>\n",
       "    <tr>\n",
       "      <th>4</th>\n",
       "      <td>-1.3701</td>\n",
       "      <td>-7.25670</td>\n",
       "      <td>-19.26300</td>\n",
       "      <td>-2.6852</td>\n",
       "      <td>-9.65380</td>\n",
       "      <td>-17.134</td>\n",
       "      <td>-257.84</td>\n",
       "      <td>68.971</td>\n",
       "      <td>18.2960</td>\n",
       "      <td>-12.1550</td>\n",
       "      <td>...</td>\n",
       "      <td>-9.9964</td>\n",
       "      <td>18.6000</td>\n",
       "      <td>8.061400</td>\n",
       "      <td>-1.7804</td>\n",
       "      <td>-8.0499</td>\n",
       "      <td>-4.0558</td>\n",
       "      <td>-14.8490</td>\n",
       "      <td>83.509</td>\n",
       "      <td>9.7829</td>\n",
       "      <td>1</td>\n",
       "    </tr>\n",
       "  </tbody>\n",
       "</table>\n",
       "<p>5 rows × 31 columns</p>\n",
       "</div>"
      ],
      "text/plain": [
       "       0        1         2       3        4        5       6       7   \\\n",
       "0 -6.8999 -8.37400   5.13050 -8.0609 -9.33130 -105.830  101.54  16.855   \n",
       "1 -4.5357 -0.52922  18.42200 -7.9649  0.81289 -115.480 -243.84 -15.475   \n",
       "2  2.5017 -4.42380   0.87547 -3.3952 -4.49810  -76.253  340.43  50.671   \n",
       "3 -4.9772  4.38300  -7.15340 -9.2472  6.23720 -272.810 -141.73 -39.216   \n",
       "4 -1.3701 -7.25670 -19.26300 -2.6852 -9.65380  -17.134 -257.84  68.971   \n",
       "\n",
       "        8        9  ...      21       22        23       24       25       26  \\\n",
       "0   6.8871  11.7080 ...  7.5461  24.5830  8.607700  -2.8798 -12.6510   8.0613   \n",
       "1  -7.0315   2.2563 ... -3.3797 -12.4200  0.081632  10.3430  26.7400  10.4490   \n",
       "2  -2.1604  13.8310 ...  2.3620 -19.0510 -5.757100   9.1906 -23.4770   5.3194   \n",
       "3   1.4554 -15.1920 ... -3.6111  -2.8229  0.664370   8.5014  -5.2599  12.2940   \n",
       "4  18.2960 -12.1550 ... -9.9964  18.6000  8.061400  -1.7804  -8.0499  -4.0558   \n",
       "\n",
       "        27      28      29  30  \n",
       "0  31.0720  27.940  4.3402   0  \n",
       "1   3.0813  52.084  5.7360   1  \n",
       "2 -21.3580  37.179  5.8575   0  \n",
       "3 -26.5540  87.247  6.8625   1  \n",
       "4 -14.8490  83.509  9.7829   1  \n",
       "\n",
       "[5 rows x 31 columns]"
      ]
     },
     "execution_count": 25,
     "metadata": {},
     "output_type": "execute_result"
    }
   ],
   "source": [
    "data.head()"
   ]
  },
  {
   "cell_type": "code",
   "execution_count": 76,
   "metadata": {},
   "outputs": [],
   "source": [
    "X = data.drop(data.columns[30], axis=1)\n",
    "y = data[data.columns[30]]"
   ]
  },
  {
   "cell_type": "code",
   "execution_count": 83,
   "metadata": {},
   "outputs": [
    {
     "name": "stdout",
     "output_type": "stream",
     "text": [
      "(100000, 30)\n"
     ]
    }
   ],
   "source": [
    "# Normalize\n",
    "X = X.apply(zscore)\n",
    "(num_samples, num_features) = X.shape\n",
    "print (num_samples, num_features)"
   ]
  },
  {
   "cell_type": "code",
   "execution_count": 27,
   "metadata": {},
   "outputs": [
    {
     "data": {
      "text/plain": [
       "array([[<matplotlib.axes._subplots.AxesSubplot object at 0x102d5fc50>,\n",
       "        <matplotlib.axes._subplots.AxesSubplot object at 0x122643310>,\n",
       "        <matplotlib.axes._subplots.AxesSubplot object at 0x122650690>],\n",
       "       [<matplotlib.axes._subplots.AxesSubplot object at 0x12269ab90>,\n",
       "        <matplotlib.axes._subplots.AxesSubplot object at 0x120bbc1d0>,\n",
       "        <matplotlib.axes._subplots.AxesSubplot object at 0x120bfcc10>],\n",
       "       [<matplotlib.axes._subplots.AxesSubplot object at 0x120c1ee50>,\n",
       "        <matplotlib.axes._subplots.AxesSubplot object at 0x120ef64d0>,\n",
       "        <matplotlib.axes._subplots.AxesSubplot object at 0x120f31f50>],\n",
       "       [<matplotlib.axes._subplots.AxesSubplot object at 0x120f5ba90>,\n",
       "        <matplotlib.axes._subplots.AxesSubplot object at 0x122911890>,\n",
       "        <matplotlib.axes._subplots.AxesSubplot object at 0x12294dd10>],\n",
       "       [<matplotlib.axes._subplots.AxesSubplot object at 0x1229991d0>,\n",
       "        <matplotlib.axes._subplots.AxesSubplot object at 0x1229d65d0>,\n",
       "        <matplotlib.axes._subplots.AxesSubplot object at 0x1210c0490>],\n",
       "       [<matplotlib.axes._subplots.AxesSubplot object at 0x12262cf90>,\n",
       "        <matplotlib.axes._subplots.AxesSubplot object at 0x122b3ce90>,\n",
       "        <matplotlib.axes._subplots.AxesSubplot object at 0x122b65110>],\n",
       "       [<matplotlib.axes._subplots.AxesSubplot object at 0x122bcb190>,\n",
       "        <matplotlib.axes._subplots.AxesSubplot object at 0x122bf3f10>,\n",
       "        <matplotlib.axes._subplots.AxesSubplot object at 0x122c1ec90>],\n",
       "       [<matplotlib.axes._subplots.AxesSubplot object at 0x122c82310>,\n",
       "        <matplotlib.axes._subplots.AxesSubplot object at 0x122cbcb90>,\n",
       "        <matplotlib.axes._subplots.AxesSubplot object at 0x122e68f10>],\n",
       "       [<matplotlib.axes._subplots.AxesSubplot object at 0x122ec7290>,\n",
       "        <matplotlib.axes._subplots.AxesSubplot object at 0x122f00c90>,\n",
       "        <matplotlib.axes._subplots.AxesSubplot object at 0x122f0fb90>],\n",
       "       [<matplotlib.axes._subplots.AxesSubplot object at 0x122f85fd0>,\n",
       "        <matplotlib.axes._subplots.AxesSubplot object at 0x122fc5150>,\n",
       "        <matplotlib.axes._subplots.AxesSubplot object at 0x122fe2b90>]],\n",
       "      dtype=object)"
      ]
     },
     "execution_count": 27,
     "metadata": {},
     "output_type": "execute_result"
    },
    {
     "data": {
      "image/png": "[encoded data removed]",
      "text/plain": [
       "<matplotlib.figure.Figure at 0x10da1ec90>"
      ]
     },
     "metadata": {},
     "output_type": "display_data"
    }
   ],
   "source": [
    "X.hist(grid=False, figsize=(15,40), layout=(10,3), bins=100, sharex=False)"
   ]
  },
  {
   "cell_type": "code",
   "execution_count": 29,
   "metadata": {},
   "outputs": [
    {
     "data": {
      "text/plain": [
       "<matplotlib.axes._subplots.AxesSubplot at 0x12310f5d0>"
      ]
     },
     "execution_count": 29,
     "metadata": {},
     "output_type": "execute_result"
    },
    {
     "data": {
      "image/png": "[encoded data removed]",
      "text/plain": [
       "<matplotlib.figure.Figure at 0x125d26fd0>"
      ]
     },
     "metadata": {},
     "output_type": "display_data"
    }
   ],
   "source": [
    "y.hist(grid=False)"
   ]
  },
  {
   "cell_type": "code",
   "execution_count": 30,
   "metadata": {
    "collapsed": true
   },
   "outputs": [],
   "source": [
    "X = X.drop(X.columns[29], axis=1)\n",
    "num_features = num_features - 1"
   ]
  },
  {
   "cell_type": "code",
   "execution_count": 84,
   "metadata": {
    "collapsed": true
   },
   "outputs": [],
   "source": [
    "X_train, X_test, y_train, y_test = train_test_split(X, y, test_size=0.20, random_state=42, shuffle=True)"
   ]
  },
  {
   "cell_type": "markdown",
   "metadata": {},
   "source": [
    "# TensorBoard Visualization"
   ]
  },
  {
   "cell_type": "markdown",
   "metadata": {},
   "source": [
    "Displays Precision-Recall curve for Keras models.\n",
    "\n",
    "Adapted from: https://medium.com/@akionakas/precision-recall-curve-with-keras-cd92647685e1"
   ]
  },
  {
   "cell_type": "code",
   "execution_count": 7,
   "metadata": {
    "collapsed": true
   },
   "outputs": [],
   "source": [
    "class PRTensorBoard(TensorBoard):\n",
    "    def __init__(self, *args, **kwargs):\n",
    "        # One extra argument to indicate whether or not to use the PR curve summary.\n",
    "        self.pr_curve = kwargs.pop('pr_curve', True)\n",
    "        super(PRTensorBoard, self).__init__(*args, **kwargs)\n",
    "\n",
    "        global tf\n",
    "        import tensorflow as tf\n",
    "\n",
    "    def set_model(self, model):\n",
    "        super(PRTensorBoard, self).set_model(model)\n",
    "\n",
    "        if self.pr_curve:\n",
    "            # Get the prediction and label tensor placeholders.\n",
    "            predictions = self.model._feed_outputs[0]\n",
    "            labels = tf.cast(self.model._feed_targets[0], tf.bool)\n",
    "            # Create the PR summary OP.\n",
    "            self.pr_summary = pr_summary.op(name='pr_curve',\n",
    "                                            predictions=predictions,\n",
    "                                            labels=labels,\n",
    "                                            display_name='Precision-Recall Curve')\n",
    "\n",
    "    def on_epoch_end(self, epoch, logs=None):\n",
    "        super(PRTensorBoard, self).on_epoch_end(epoch, logs)\n",
    "\n",
    "        if self.pr_curve and self.validation_data:\n",
    "            # Get the tensors again.\n",
    "            tensors = self.model._feed_targets + self.model._feed_outputs\n",
    "            # Predict the output.\n",
    "            predictions = self.model.predict(self.validation_data[0])\n",
    "            # Build the dictionary mapping the tensor to the data.\n",
    "            val_data = [self.validation_data[1], predictions]\n",
    "            feed_dict = dict(zip(tensors, val_data))\n",
    "            # Run and add summary.\n",
    "            result = self.sess.run([self.pr_summary], feed_dict=feed_dict)\n",
    "            self.writer.add_summary(result[0], epoch)\n",
    "        self.writer.flush()"
   ]
  },
  {
   "cell_type": "markdown",
   "metadata": {},
   "source": [
    "# DNN"
   ]
  },
  {
   "cell_type": "code",
   "execution_count": 93,
   "metadata": {
    "collapsed": true
   },
   "outputs": [],
   "source": [
    "epochs = 20\n",
    "batch_size = 32\n",
    "\n",
    "model = Sequential()\n",
    "model.add(Dense(30, input_dim=num_features))\n",
    "model.add(Activation('tanh'))\n",
    "\n",
    "model.add(Dense(30))\n",
    "model.add(Activation('tanh'))\n",
    "\n",
    "model.add(Dense(1))\n",
    "model.add(Activation('sigmoid'))"
   ]
  },
  {
   "cell_type": "code",
   "execution_count": 94,
   "metadata": {
    "collapsed": true
   },
   "outputs": [],
   "source": [
    "opt = keras.optimizers.Adagrad()\n",
    "\n",
    "model.compile(loss = 'mean_squared_error',\n",
    "              optimizer = opt,\n",
    "              metrics = ['accuracy'])"
   ]
  },
  {
   "cell_type": "code",
   "execution_count": 95,
   "metadata": {},
   "outputs": [
    {
     "name": "stdout",
     "output_type": "stream",
     "text": [
      "Train on 64000 samples, validate on 16000 samples\n",
      "Epoch 1/20\n",
      "64000/64000 [==============================] - 6s 98us/step - loss: 0.0861 - acc: 0.8804 - val_loss: 0.0855 - val_acc: 0.8813\n",
      "Epoch 2/20\n",
      "64000/64000 [==============================] - 5s 82us/step - loss: 0.0825 - acc: 0.8854 - val_loss: 0.0845 - val_acc: 0.8836\n",
      "Epoch 3/20\n",
      "64000/64000 [==============================] - 5s 78us/step - loss: 0.0813 - acc: 0.8872 - val_loss: 0.0834 - val_acc: 0.8847\n",
      "Epoch 4/20\n",
      "64000/64000 [==============================] - 5s 76us/step - loss: 0.0797 - acc: 0.8891 - val_loss: 0.0814 - val_acc: 0.8872\n",
      "Epoch 5/20\n",
      "64000/64000 [==============================] - 5s 77us/step - loss: 0.0771 - acc: 0.8927 - val_loss: 0.0781 - val_acc: 0.8914\n",
      "Epoch 6/20\n",
      "64000/64000 [==============================] - 5s 78us/step - loss: 0.0730 - acc: 0.8990 - val_loss: 0.0732 - val_acc: 0.8979\n",
      "Epoch 7/20\n",
      "64000/64000 [==============================] - 5s 76us/step - loss: 0.0679 - acc: 0.9074 - val_loss: 0.0679 - val_acc: 0.9069\n",
      "Epoch 8/20\n",
      "64000/64000 [==============================] - 5s 79us/step - loss: 0.0630 - acc: 0.9153 - val_loss: 0.0635 - val_acc: 0.9143\n",
      "Epoch 9/20\n",
      "64000/64000 [==============================] - 5s 77us/step - loss: 0.0590 - acc: 0.9219 - val_loss: 0.0597 - val_acc: 0.9209\n",
      "Epoch 10/20\n",
      "64000/64000 [==============================] - 5s 79us/step - loss: 0.0560 - acc: 0.9270 - val_loss: 0.0572 - val_acc: 0.9235\n",
      "Epoch 11/20\n",
      "64000/64000 [==============================] - 5s 78us/step - loss: 0.0537 - acc: 0.9297 - val_loss: 0.0550 - val_acc: 0.9264\n",
      "Epoch 12/20\n",
      "64000/64000 [==============================] - 5s 79us/step - loss: 0.0518 - acc: 0.9325 - val_loss: 0.0532 - val_acc: 0.9291\n",
      "Epoch 13/20\n",
      "64000/64000 [==============================] - 5s 77us/step - loss: 0.0503 - acc: 0.9350 - val_loss: 0.0519 - val_acc: 0.9302\n",
      "Epoch 14/20\n",
      "64000/64000 [==============================] - 5s 78us/step - loss: 0.0490 - acc: 0.9365 - val_loss: 0.0505 - val_acc: 0.9321\n",
      "Epoch 15/20\n",
      "64000/64000 [==============================] - 5s 80us/step - loss: 0.0478 - acc: 0.9377 - val_loss: 0.0493 - val_acc: 0.9341\n",
      "Epoch 16/20\n",
      "64000/64000 [==============================] - 5s 78us/step - loss: 0.0467 - acc: 0.9387 - val_loss: 0.0483 - val_acc: 0.9355\n",
      "Epoch 17/20\n",
      "64000/64000 [==============================] - 5s 76us/step - loss: 0.0457 - acc: 0.9407 - val_loss: 0.0473 - val_acc: 0.9374\n",
      "Epoch 18/20\n",
      "64000/64000 [==============================] - 5s 78us/step - loss: 0.0447 - acc: 0.9413 - val_loss: 0.0461 - val_acc: 0.9387\n",
      "Epoch 19/20\n",
      "64000/64000 [==============================] - 5s 80us/step - loss: 0.0437 - acc: 0.9425 - val_loss: 0.0452 - val_acc: 0.9406\n",
      "Epoch 20/20\n",
      "64000/64000 [==============================] - 5s 80us/step - loss: 0.0427 - acc: 0.9438 - val_loss: 0.0441 - val_acc: 0.9414\n"
     ]
    },
    {
     "data": {
      "text/plain": [
       "<keras.callbacks.History at 0x12a4b45d0>"
      ]
     },
     "execution_count": 95,
     "metadata": {},
     "output_type": "execute_result"
    }
   ],
   "source": [
    "model.fit(X_train, y_train,\n",
    "          batch_size=batch_size,\n",
    "          epochs=epochs,\n",
    "          validation_split=.2,\n",
    "          shuffle=True,\n",
    "          callbacks=[EarlyStopping(monitor='val_acc', patience=2)])"
   ]
  },
  {
   "cell_type": "code",
   "execution_count": 89,
   "metadata": {},
   "outputs": [
    {
     "name": "stdout",
     "output_type": "stream",
     "text": [
      "20000/20000 [==============================] - 1s 43us/step\n",
      "['loss', 'acc']\n",
      "[0.037390116529352965, 0.9477]\n"
     ]
    }
   ],
   "source": [
    "score = model.evaluate(X_test, y_test, batch_size=batch_size)\n",
    "print model.metrics_names\n",
    "print score"
   ]
  },
  {
   "cell_type": "markdown",
   "metadata": {},
   "source": [
    "# Uniform Sampling CNN Model"
   ]
  },
  {
   "cell_type": "markdown",
   "metadata": {},
   "source": [
    "We are interested in plotting the learning curves for the uniform dataset.  To do this we will keep the test data fixed and vary the size of the training data."
   ]
  },
  {
   "cell_type": "code",
   "execution_count": 158,
   "metadata": {
    "collapsed": true
   },
   "outputs": [],
   "source": [
    "# Remove a percentage (test_size) of the data from the training set (hold test set constant)\n",
    "X_train_sub, X_ignore, y_train_sub, y_ignore = train_test_split(X_train, y_train, test_size=0.8, random_state=42, shuffle=False)"
   ]
  },
  {
   "cell_type": "code",
   "execution_count": 96,
   "metadata": {
    "collapsed": true
   },
   "outputs": [],
   "source": [
    "X_train_sub = X_train\n",
    "y_train_sub = y_train"
   ]
  },
  {
   "cell_type": "code",
   "execution_count": 97,
   "metadata": {
    "collapsed": true
   },
   "outputs": [],
   "source": [
    "epochs = 20\n",
    "batch_size = 32\n",
    "X_train_cnn = np.expand_dims(X_train_sub.as_matrix(), axis=2)\n",
    "X_test_cnn = np.expand_dims(X_test.as_matrix(), axis=2)"
   ]
  },
  {
   "cell_type": "code",
   "execution_count": 102,
   "metadata": {},
   "outputs": [],
   "source": [
    "# 16 3x1 convolutions\n",
    "inputs = Input(shape=(num_features, 1))\n",
    "conv1 = Conv1D(16, 5, padding='same', strides=1, kernel_initializer=he_normal(seed=None))(inputs)\n",
    "bn1 = BatchNormalization()(conv1)\n",
    "relu1 = Activation('relu')(bn1)\n",
    "\n",
    "# 32 3x16 convolutions\n",
    "conv2 = Conv1D(32, 3, padding='same', strides=1, kernel_initializer=he_normal(seed=None))(relu1)\n",
    "bn2 = BatchNormalization()(conv2)\n",
    "relu2 = Activation('relu')(bn2)\n",
    "flatten = Flatten()(relu2)\n",
    "\n",
    "# FC 2048\n",
    "fc1 = Dense(256, kernel_initializer=he_normal(seed=None))(flatten)\n",
    "bn3 = BatchNormalization()(fc1)\n",
    "relu3 = Activation('relu')(bn3)\n",
    "drop1 = Dropout(0.75)(relu3)\n",
    "\n",
    "# FC 1024\n",
    "fc2 = Dense(128, kernel_initializer=he_normal(seed=None))(drop1)\n",
    "bn4 = BatchNormalization()(fc2)\n",
    "relu4 = Activation('relu')(bn4)\n",
    "drop2 = Dropout(0.75)(relu4)\n",
    "\n",
    "# FC 512\n",
    "fc3 = Dense(128, kernel_initializer=he_normal(seed=None))(drop2)\n",
    "bn5 = BatchNormalization()(fc3)\n",
    "relu5 = Activation('relu')(bn5)\n",
    "drop3 = Dropout(0.75)(relu5)\n",
    "\n",
    "# Output\n",
    "fc4 = Dense(1, kernel_initializer=he_normal(seed=None))(drop3)\n",
    "outputs = Activation('sigmoid')(fc4)\n",
    "\n",
    "model = Model(inputs=inputs, outputs=outputs)"
   ]
  },
  {
   "cell_type": "code",
   "execution_count": 103,
   "metadata": {
    "collapsed": true
   },
   "outputs": [],
   "source": [
    "opt = keras.optimizers.Adagrad()\n",
    "\n",
    "model.compile(loss = 'binary_crossentropy',\n",
    "              optimizer = opt,\n",
    "              metrics = ['accuracy'])"
   ]
  },
  {
   "cell_type": "code",
   "execution_count": 104,
   "metadata": {},
   "outputs": [
    {
     "name": "stdout",
     "output_type": "stream",
     "text": [
      "Train on 64000 samples, validate on 16000 samples\n",
      "Epoch 1/20\n",
      "64000/64000 [==============================] - 27s 429us/step - loss: 0.4303 - acc: 0.7948 - val_loss: 0.2683 - val_acc: 0.8929\n",
      "Epoch 2/20\n",
      "64000/64000 [==============================] - 25s 384us/step - loss: 0.3122 - acc: 0.8676 - val_loss: 0.2252 - val_acc: 0.9116\n",
      "Epoch 3/20\n",
      "64000/64000 [==============================] - 28s 433us/step - loss: 0.2800 - acc: 0.8827 - val_loss: 0.1976 - val_acc: 0.9262\n",
      "Epoch 4/20\n",
      "64000/64000 [==============================] - 27s 415us/step - loss: 0.2623 - acc: 0.8903 - val_loss: 0.1805 - val_acc: 0.9324\n",
      "Epoch 5/20\n",
      "64000/64000 [==============================] - 25s 384us/step - loss: 0.2562 - acc: 0.8931 - val_loss: 0.1728 - val_acc: 0.9374\n",
      "Epoch 6/20\n",
      "64000/64000 [==============================] - 25s 391us/step - loss: 0.2437 - acc: 0.9005 - val_loss: 0.1651 - val_acc: 0.9388\n",
      "Epoch 7/20\n",
      "64000/64000 [==============================] - 25s 390us/step - loss: 0.2390 - acc: 0.9015 - val_loss: 0.1579 - val_acc: 0.9429\n",
      "Epoch 8/20\n",
      "64000/64000 [==============================] - 25s 390us/step - loss: 0.2366 - acc: 0.9030 - val_loss: 0.1585 - val_acc: 0.9428\n",
      "Epoch 9/20\n",
      "64000/64000 [==============================] - 27s 421us/step - loss: 0.2279 - acc: 0.9052 - val_loss: 0.1536 - val_acc: 0.9434\n",
      "Epoch 10/20\n",
      "64000/64000 [==============================] - 26s 413us/step - loss: 0.2245 - acc: 0.9078 - val_loss: 0.1488 - val_acc: 0.9456\n",
      "Epoch 11/20\n",
      "64000/64000 [==============================] - 26s 400us/step - loss: 0.2249 - acc: 0.9073 - val_loss: 0.1501 - val_acc: 0.9458\n",
      "Epoch 12/20\n",
      "64000/64000 [==============================] - 25s 393us/step - loss: 0.2218 - acc: 0.9090 - val_loss: 0.1477 - val_acc: 0.9467\n",
      "Epoch 13/20\n",
      "64000/64000 [==============================] - 25s 388us/step - loss: 0.2125 - acc: 0.9119 - val_loss: 0.1429 - val_acc: 0.9452\n",
      "Epoch 14/20\n",
      "64000/64000 [==============================] - 29s 452us/step - loss: 0.2208 - acc: 0.9080 - val_loss: 0.1455 - val_acc: 0.9473\n",
      "Epoch 15/20\n",
      "64000/64000 [==============================] - 28s 443us/step - loss: 0.2117 - acc: 0.9134 - val_loss: 0.1416 - val_acc: 0.9484\n",
      "Epoch 16/20\n",
      "64000/64000 [==============================] - 24s 379us/step - loss: 0.2154 - acc: 0.9113 - val_loss: 0.1403 - val_acc: 0.9504\n",
      "Epoch 17/20\n",
      "64000/64000 [==============================] - 25s 393us/step - loss: 0.2141 - acc: 0.9132 - val_loss: 0.1418 - val_acc: 0.9471\n",
      "Epoch 18/20\n",
      "64000/64000 [==============================] - 26s 411us/step - loss: 0.2124 - acc: 0.9126 - val_loss: 0.1400 - val_acc: 0.9506\n",
      "Epoch 19/20\n",
      "64000/64000 [==============================] - 26s 402us/step - loss: 0.2098 - acc: 0.9143 - val_loss: 0.1382 - val_acc: 0.9505\n",
      "Epoch 20/20\n",
      "64000/64000 [==============================] - 24s 375us/step - loss: 0.2059 - acc: 0.9178 - val_loss: 0.1357 - val_acc: 0.9516\n"
     ]
    },
    {
     "data": {
      "text/plain": [
       "<keras.callbacks.History at 0x12b15dc10>"
      ]
     },
     "execution_count": 104,
     "metadata": {},
     "output_type": "execute_result"
    }
   ],
   "source": [
    "model.fit(X_train_cnn, y_train_sub,\n",
    "          batch_size=batch_size,\n",
    "          epochs=epochs,\n",
    "          validation_split=.2,\n",
    "          shuffle=True,\n",
    "          callbacks=[EarlyStopping(monitor='val_acc', patience=2)])"
   ]
  },
  {
   "cell_type": "code",
   "execution_count": 101,
   "metadata": {},
   "outputs": [
    {
     "name": "stdout",
     "output_type": "stream",
     "text": [
      "20000/20000 [==============================] - 3s 144us/step\n",
      "['loss', 'acc']\n",
      "[0.11317532860934734, 0.96]\n"
     ]
    }
   ],
   "source": [
    "score = model.evaluate(X_test_cnn, y_test, batch_size=batch_size)\n",
    "print model.metrics_names\n",
    "print score"
   ]
  },
  {
   "cell_type": "markdown",
   "metadata": {},
   "source": [
    "[(20%, 8, 0.975895), (40%, 5, 0.976265), (60%, 5, 0.979475), (80%, 5, 0.98054), (100%, 3, 0.986735)]"
   ]
  },
  {
   "cell_type": "code",
   "execution_count": null,
   "metadata": {
    "collapsed": true
   },
   "outputs": [],
   "source": [
    "model.save('models/uniform/cnn_40_percent.h5')"
   ]
  },
  {
   "cell_type": "markdown",
   "metadata": {},
   "source": [
    "## Dynamics Aware Test Set"
   ]
  },
  {
   "cell_type": "markdown",
   "metadata": {},
   "source": [
    "We are interested in seeing how well our models trained on the Uniform dataset generalize to the Dymanics Aware data.  For this we will simply use the Dynamics Aware dataset as our test set."
   ]
  },
  {
   "cell_type": "code",
   "execution_count": null,
   "metadata": {
    "collapsed": true
   },
   "outputs": [],
   "source": [
    "data = pd.read_csv('../../datasets/heli_dynamics/hc_dynaware_200k.csv', header=None)"
   ]
  },
  {
   "cell_type": "code",
   "execution_count": null,
   "metadata": {
    "collapsed": true
   },
   "outputs": [],
   "source": [
    "X_test = data.drop(data.columns[29], axis=1)\n",
    "X_test = X_test.apply(zscore)\n",
    "X_test_cnn = np.expand_dims(X_test.as_matrix(), axis=2)\n",
    "\n",
    "y_test = data[data.columns[29]]"
   ]
  },
  {
   "cell_type": "code",
   "execution_count": null,
   "metadata": {
    "collapsed": true
   },
   "outputs": [],
   "source": [
    "X_test.hist(grid=False, figsize=(15,40), layout=(10,3), bins=100)"
   ]
  },
  {
   "cell_type": "code",
   "execution_count": null,
   "metadata": {
    "collapsed": true
   },
   "outputs": [],
   "source": [
    "y_test.hist(grid=False)"
   ]
  },
  {
   "cell_type": "code",
   "execution_count": null,
   "metadata": {
    "collapsed": true
   },
   "outputs": [],
   "source": [
    "score = model.evaluate(X_test_cnn, y_test, batch_size=batch_size)\n",
    "print model.metrics_names\n",
    "print score"
   ]
  },
  {
   "cell_type": "markdown",
   "metadata": {},
   "source": [
    "[(20%, 0.63983), (40%, ), (60%, ), (80%, ), (100%, )]"
   ]
  },
  {
   "cell_type": "markdown",
   "metadata": {},
   "source": [
    "# Dynamics Aware CNN Model"
   ]
  },
  {
   "cell_type": "code",
   "execution_count": null,
   "metadata": {
    "collapsed": true
   },
   "outputs": [],
   "source": [
    "epochs = 10\n",
    "batch_size = 32\n",
    "X_train_cnn = np.expand_dims(X_train.as_matrix(), axis=2)\n",
    "X_test_cnn = np.expand_dims(X_test.as_matrix(), axis=2)"
   ]
  },
  {
   "cell_type": "code",
   "execution_count": null,
   "metadata": {
    "collapsed": true
   },
   "outputs": [],
   "source": [
    "# 16 3x1 convolutions\n",
    "inputs = Input(shape=(num_features, 1))\n",
    "conv1 = Conv1D(16, 3, padding='same', strides=1, kernel_initializer=he_normal(seed=None))(inputs)\n",
    "bn1 = BatchNormalization()(conv1)\n",
    "relu1 = Activation('relu')(bn1)\n",
    "\n",
    "# 32 3x16 convolutions\n",
    "conv2 = Conv1D(32, 3, padding='same', strides=1, kernel_initializer=he_normal(seed=None))(relu1)\n",
    "bn2 = BatchNormalization()(conv2)\n",
    "relu2 = Activation('relu')(bn2)\n",
    "flatten = Flatten()(relu2)\n",
    "\n",
    "# FC 2048\n",
    "fc1 = Dense(2048, kernel_initializer=he_normal(seed=None))(flatten)\n",
    "bn3 = BatchNormalization()(fc1)\n",
    "relu3 = Activation('relu')(bn3)\n",
    "drop1 = Dropout(0.5)(relu3)\n",
    "\n",
    "# FC 1024\n",
    "fc2 = Dense(1024, kernel_initializer=he_normal(seed=None))(drop1)\n",
    "bn4 = BatchNormalization()(fc2)\n",
    "relu4 = Activation('relu')(bn4)\n",
    "drop2 = Dropout(0.5)(relu4)\n",
    "\n",
    "# FC 512\n",
    "fc3 = Dense(512, kernel_initializer=he_normal(seed=None))(drop2)\n",
    "bn5 = BatchNormalization()(fc3)\n",
    "relu5 = Activation('relu')(bn5)\n",
    "drop3 = Dropout(0.5)(relu5)\n",
    "\n",
    "# Output\n",
    "fc4 = Dense(1, kernel_initializer=he_normal(seed=None))(drop3)\n",
    "outputs = Activation('sigmoid')(fc4)\n",
    "\n",
    "model = Model(inputs=inputs, outputs=outputs)"
   ]
  },
  {
   "cell_type": "code",
   "execution_count": null,
   "metadata": {
    "collapsed": true
   },
   "outputs": [],
   "source": [
    "#opt = keras.optimizers.Adadelta()\n",
    "opt = keras.optimizers.Adagrad()\n",
    "\n",
    "model.compile(loss = 'binary_crossentropy',\n",
    "              optimizer = opt,\n",
    "              metrics = ['accuracy'])"
   ]
  },
  {
   "cell_type": "code",
   "execution_count": null,
   "metadata": {
    "collapsed": true
   },
   "outputs": [],
   "source": [
    "model.fit(X_train_cnn, y_train,\n",
    "          batch_size=batch_size,\n",
    "          epochs=epochs,\n",
    "          validation_split=.2,\n",
    "          shuffle=True,\n",
    "          callbacks=[PRTensorBoard(log_dir='logs/dyn'), EarlyStopping(monitor='val_acc', patience=2)])"
   ]
  },
  {
   "cell_type": "code",
   "execution_count": null,
   "metadata": {
    "collapsed": true
   },
   "outputs": [],
   "source": [
    "score = model.evaluate(X_test_cnn, y_test, batch_size=batch_size)\n",
    "print model.metrics_names\n",
    "print score"
   ]
  },
  {
   "cell_type": "code",
   "execution_count": null,
   "metadata": {
    "collapsed": true
   },
   "outputs": [],
   "source": [
    "model.save('models/dynamics/cnn.h5')"
   ]
  },
  {
   "cell_type": "code",
   "execution_count": null,
   "metadata": {
    "collapsed": true
   },
   "outputs": [],
   "source": []
  }
 ],
 "metadata": {
  "kernelspec": {
   "display_name": "Python 2",
   "language": "python",
   "name": "python2"
  },
  "language_info": {
   "codemirror_mode": {
    "name": "ipython",
    "version": 2
   },
   "file_extension": ".py",
   "mimetype": "text/x-python",
   "name": "python",
   "nbconvert_exporter": "python",
   "pygments_lexer": "ipython2",
   "version": "2.7.14"
  }
 },
 "nbformat": 4,
 "nbformat_minor": 2
}
